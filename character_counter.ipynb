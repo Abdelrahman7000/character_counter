{
 "cells": [
  {
   "cell_type": "code",
   "execution_count": 1,
   "id": "5a37c071",
   "metadata": {},
   "outputs": [],
   "source": [
    "\n",
    "def count_char(st,key):\n",
    "    ''' This function will accept the word or phrase or sentence as first argument and\n",
    "         the character which i call it key to be counted  as the second argument , and it will return the number\n",
    "         of occurrences of that character in the string '''\n",
    "    \n",
    "    count=0\n",
    "    for i in st:\n",
    "        if i==key:\n",
    "           count+=1\n",
    "    return count    "
   ]
  },
  {
   "cell_type": "code",
   "execution_count": 9,
   "id": "3567a449",
   "metadata": {},
   "outputs": [
    {
     "name": "stdout",
     "output_type": "stream",
     "text": [
      "Enter ==> Hello world I love programming \n",
      "Targeted character ==> o\n",
      "4\n"
     ]
    }
   ],
   "source": [
    "\n",
    "string=input('Enter ==> ').lower()\n",
    "target=input('Targeted character ==> ').lower()\n",
    "\n",
    "# we will count number of target charachter\n",
    "print(count_char(string,target))\n",
    "\n"
   ]
  },
  {
   "cell_type": "code",
   "execution_count": null,
   "id": "eb0ac8fe",
   "metadata": {},
   "outputs": [],
   "source": []
  },
  {
   "cell_type": "code",
   "execution_count": null,
   "id": "c6298aad",
   "metadata": {},
   "outputs": [],
   "source": []
  }
 ],
 "metadata": {
  "kernelspec": {
   "display_name": "Python 3",
   "language": "python",
   "name": "python3"
  },
  "language_info": {
   "codemirror_mode": {
    "name": "ipython",
    "version": 3
   },
   "file_extension": ".py",
   "mimetype": "text/x-python",
   "name": "python",
   "nbconvert_exporter": "python",
   "pygments_lexer": "ipython3",
   "version": "3.8.8"
  }
 },
 "nbformat": 4,
 "nbformat_minor": 5
}
